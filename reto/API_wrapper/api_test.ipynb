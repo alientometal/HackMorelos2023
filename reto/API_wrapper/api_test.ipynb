{
 "cells": [
  {
   "cell_type": "code",
   "execution_count": 3,
   "metadata": {},
   "outputs": [],
   "source": [
    "import requests\n",
    "import json\n",
    "\n",
    "class ConektaAPI:\n",
    "    def __init__(self, api_key):\n",
    "        self.api_key = api_key\n",
    "        \n",
    "    def create_charge(self, ord_id, body):\n",
    "        headers = {\n",
    "            \"accept\": \"application/vnd.conekta-v2.1.0+json\",\n",
    "            \"Accept-Language\": \"es\",\n",
    "            \"content-type\": \"application/json\",\n",
    "            \"authorization\": f\"Bearer {self.api_key}\"\n",
    "        }\n",
    "        response = requests.post(\n",
    "            f'https://api.conekta.io/orders/{ord_id}/charges',\n",
    "            headers=headers,\n",
    "            data=json.dumps(body)\n",
    "        )\n",
    "        return response.json()\n",
    "    \n",
    "    #Bearer key_NAg31rOHlGykoogjK0xMcon\n",
    "    def create_order(self, body):\n",
    "    \n",
    "        headers = {\n",
    "            \"accept\": \"application/vnd.conekta-v2.1.0+json\",\n",
    "            \"Accept-Language\": \"es\",\n",
    "            \"content-type\": \"application/json\",\n",
    "            \"authorization\": f\"Bearer {self.api_key}\"\n",
    "        }\n",
    "        response = requests.post(\n",
    "            \"https://api.conekta.io/orders\",\n",
    "            headers=headers,\n",
    "            data=json.dumps(body)\n",
    "        )\n",
    "        return response.json()"
   ]
  },
  {
   "cell_type": "code",
   "execution_count": null,
   "metadata": {},
   "outputs": [],
   "source": [
    "# ord_2ugqzC1EREY6hcEDP\n",
    "# key_mRtflzDbQGCMAp3vMMKzvEs"
   ]
  },
  {
   "cell_type": "code",
   "execution_count": 4,
   "metadata": {},
   "outputs": [
    {
     "data": {
      "text/plain": [
       "{'details': [{'debug_message': 'The order cannot be modified because it has already a charge which is paid.',\n",
       "   'message': 'La orden ya tiene un cargo pagado.',\n",
       "   'param': None,\n",
       "   'code': 'conekta.errors.precondition_required.combo.order.cannot_be_updated_because_has_charge_paid'},\n",
       "  {'debug_message': 'The order cannot be modified because it has already a charge which is paid.',\n",
       "   'message': 'La orden ya tiene un cargo pagado.',\n",
       "   'param': None,\n",
       "   'code': 'conekta.errors.precondition_required.combo.order.cannot_be_updated_because_has_charge_paid'}],\n",
       " 'object': 'error',\n",
       " 'type': 'precondition_required_error',\n",
       " 'log_id': '65219ea404f6770017543d20'}"
      ]
     },
     "execution_count": 4,
     "metadata": {},
     "output_type": "execute_result"
    }
   ],
   "source": [
    "conekta_api = ConektaAPI('key_mRtflzDbQGCMAp3vMMKzvEs')\n",
    "conekta_api.create_charge(ord_id='ord_2ugqzC1EREY6hcEDP', body={ \"payment_method\": { \"type\": \"cash\" } })"
   ]
  },
  {
   "cell_type": "code",
   "execution_count": 6,
   "metadata": {},
   "outputs": [
    {
     "data": {
      "text/plain": [
       "{'livemode': False,\n",
       " 'amount': 20000,\n",
       " 'currency': 'MXN',\n",
       " 'payment_status': None,\n",
       " 'amount_refunded': 0,\n",
       " 'split_payment': None,\n",
       " 'customer_info': {'email': 'test@conekta.com',\n",
       "  'phone': '5522997233',\n",
       "  'name': 'DevTest',\n",
       "  'corporate': None,\n",
       "  'customer_id': None,\n",
       "  'object': 'customer_info'},\n",
       " 'shipping_contact': None,\n",
       " 'channel': None,\n",
       " 'fiscal_entity': None,\n",
       " 'object': 'order',\n",
       " 'id': 'ord_2ugydCRKvAqcbxi8X',\n",
       " 'metadata': {},\n",
       " 'is_refundable': False,\n",
       " 'processing_mode': None,\n",
       " 'created_at': 1696702152,\n",
       " 'updated_at': 1696702152,\n",
       " 'line_items': {'object': 'list',\n",
       "  'has_more': False,\n",
       "  'total': 1,\n",
       "  'data': [{'name': 'Credit Card',\n",
       "    'description': None,\n",
       "    'unit_price': 20000,\n",
       "    'quantity': 1,\n",
       "    'sku': None,\n",
       "    'tags': None,\n",
       "    'brand': None,\n",
       "    'type': None,\n",
       "    'object': 'line_item',\n",
       "    'id': 'line_item_2ugydCRKvAqcbxi8V',\n",
       "    'parent_id': 'ord_2ugydCRKvAqcbxi8X',\n",
       "    'metadata': {},\n",
       "    'antifraud_info': {}}]},\n",
       " 'shipping_lines': None,\n",
       " 'tax_lines': None,\n",
       " 'discount_lines': None,\n",
       " 'charges': None}"
      ]
     },
     "execution_count": 6,
     "metadata": {},
     "output_type": "execute_result"
    }
   ],
   "source": [
    "conekta_api.create_order(body={\n",
    "    \"customer_info\": {\n",
    "        \"name\": \"DevTest\",\n",
    "        \"email\": \"test@conekta.com\",\n",
    "        \"phone\": \"5522997233\"\n",
    "    },\n",
    "    \"pre_authorize\": False,\n",
    "    \"line_items\": [\n",
    "        {\n",
    "            \"quantity\": 1,\n",
    "            \"name\": \"Credit Card\",\n",
    "            \"unit_price\": 20000\n",
    "        }\n",
    "    ],\n",
    "    \"currency\": \"MXN\"\n",
    "})"
   ]
  },
  {
   "cell_type": "code",
   "execution_count": 8,
   "metadata": {},
   "outputs": [
    {
     "data": {
      "text/plain": [
       "{'id': '65219f331687bc001aea9a9f',\n",
       " 'livemode': False,\n",
       " 'created_at': 1696702259,\n",
       " 'currency': 'MXN',\n",
       " 'failure_code': None,\n",
       " 'failure_message': None,\n",
       " 'monthly_installments': None,\n",
       " 'device_fingerprint': None,\n",
       " 'channel': None,\n",
       " 'payment_method': {'service_name': 'OxxoPay',\n",
       "  'barcode_url': 'https://barcodes.conekta.com/sandbox_reference.png',\n",
       "  'store': None,\n",
       "  'auth_code': None,\n",
       "  'object': 'cash_payment',\n",
       "  'type': 'oxxo',\n",
       "  'expires_at': 1699315200,\n",
       "  'store_name': 'OXXO',\n",
       "  'reference': '98000017163703',\n",
       "  'cashier_id': None},\n",
       " 'object': 'charge',\n",
       " 'description': 'Payment from order',\n",
       " 'is_refundable': False,\n",
       " 'reference_id': None,\n",
       " 'status': 'pending_payment',\n",
       " 'amount': 20000,\n",
       " 'paid_at': None,\n",
       " 'customer_id': '',\n",
       " 'order_id': 'ord_2ugydCRKvAqcbxi8X',\n",
       " 'refunds': None}"
      ]
     },
     "execution_count": 8,
     "metadata": {},
     "output_type": "execute_result"
    }
   ],
   "source": [
    "conekta_api.create_charge('ord_2ugydCRKvAqcbxi8X', { \"payment_method\": { \"type\": \"cash\" } })"
   ]
  },
  {
   "cell_type": "code",
   "execution_count": null,
   "metadata": {},
   "outputs": [],
   "source": [
    "  \"checkout\": {\n",
    "    \"id\": \"b4d3c3e2-a605-4068-9a61-dd982a63f4de\",\n",
    "    \"name\": \"ord-2ugqVSNCCarUrWDyS\",\n",
    "    \n",
    " \"object\": \"order\",\n",
    "  \"id\": \"ord_2ugqVSNCCarUrWDyS\","
   ]
  }
 ],
 "metadata": {
  "kernelspec": {
   "display_name": "hackmorelos",
   "language": "python",
   "name": "python3"
  },
  "language_info": {
   "codemirror_mode": {
    "name": "ipython",
    "version": 3
   },
   "file_extension": ".py",
   "mimetype": "text/x-python",
   "name": "python",
   "nbconvert_exporter": "python",
   "pygments_lexer": "ipython3",
   "version": "3.8.18"
  },
  "orig_nbformat": 4
 },
 "nbformat": 4,
 "nbformat_minor": 2
}
