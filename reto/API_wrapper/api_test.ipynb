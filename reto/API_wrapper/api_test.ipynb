{
 "cells": [
  {
   "cell_type": "code",
   "execution_count": 15,
   "metadata": {},
   "outputs": [],
   "source": [
    "import requests\n",
    "import json\n",
    "\n",
    "class ConektaAPI:\n",
    "    def __init__(self, api_key):\n",
    "        self.api_key = api_key\n",
    "        \n",
    "    def create_charge(self, ord_id, body):\n",
    "        headers = {\n",
    "            \"accept\": \"application/vnd.conekta-v2.1.0+json\",\n",
    "            \"Accept-Language\": \"es\",\n",
    "            \"content-type\": \"application/json\",\n",
    "            \"authorization\": f\"Bearer {self.api_key}\"\n",
    "        }\n",
    "        response = requests.post(\n",
    "            f'https://api.conekta.io/orders/{ord_id}/charges',\n",
    "            headers=headers,\n",
    "            data=json.dumps(body)\n",
    "        )\n",
    "        return response.json()\n",
    "    \n",
    "    def create_order(self):\n",
    "        pass"
   ]
  },
  {
   "cell_type": "code",
   "execution_count": null,
   "metadata": {},
   "outputs": [],
   "source": [
    "# ord_2ugqzC1EREY6hcEDP\n",
    "# key_mRtflzDbQGCMAp3vMMKzvEs"
   ]
  },
  {
   "cell_type": "code",
   "execution_count": 16,
   "metadata": {},
   "outputs": [],
   "source": [
    "conekta_api = ConektaAPI('key_mRtflzDbQGCMAp3vMMKzvEs')\n",
    "response = conekta_api.create_charge(ord_id='ord_2ugqzC1EREY6hcEDP', body={ \"payment_method\": { \"type\": \"cash\" } })"
   ]
  },
  {
   "cell_type": "code",
   "execution_count": 19,
   "metadata": {},
   "outputs": [
    {
     "data": {
      "text/plain": [
       "{'details': [{'debug_message': 'The order cannot be modified because it has already a charge which is paid.',\n",
       "   'message': 'La orden ya tiene un cargo pagado.',\n",
       "   'param': None,\n",
       "   'code': 'conekta.errors.precondition_required.combo.order.cannot_be_updated_because_has_charge_paid'},\n",
       "  {'debug_message': 'The order cannot be modified because it has already a charge which is paid.',\n",
       "   'message': 'La orden ya tiene un cargo pagado.',\n",
       "   'param': None,\n",
       "   'code': 'conekta.errors.precondition_required.combo.order.cannot_be_updated_because_has_charge_paid'}],\n",
       " 'object': 'error',\n",
       " 'type': 'precondition_required_error',\n",
       " 'log_id': '6521475b9a90aa0016e4ebb4'}"
      ]
     },
     "execution_count": 19,
     "metadata": {},
     "output_type": "execute_result"
    }
   ],
   "source": [
    "response"
   ]
  },
  {
   "cell_type": "code",
   "execution_count": null,
   "metadata": {},
   "outputs": [],
   "source": [
    "  \"checkout\": {\n",
    "    \"id\": \"b4d3c3e2-a605-4068-9a61-dd982a63f4de\",\n",
    "    \"name\": \"ord-2ugqVSNCCarUrWDyS\",\n",
    "    \n",
    " \"object\": \"order\",\n",
    "  \"id\": \"ord_2ugqVSNCCarUrWDyS\","
   ]
  }
 ],
 "metadata": {
  "kernelspec": {
   "display_name": "hackmorelos",
   "language": "python",
   "name": "python3"
  },
  "language_info": {
   "codemirror_mode": {
    "name": "ipython",
    "version": 3
   },
   "file_extension": ".py",
   "mimetype": "text/x-python",
   "name": "python",
   "nbconvert_exporter": "python",
   "pygments_lexer": "ipython3",
   "version": "3.8.18"
  },
  "orig_nbformat": 4
 },
 "nbformat": 4,
 "nbformat_minor": 2
}
