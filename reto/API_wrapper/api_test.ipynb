{
 "cells": [
  {
   "cell_type": "code",
   "execution_count": null,
   "metadata": {},
   "outputs": [],
   "source": [
    "import requests\n",
    "import json\n",
    "\n",
    "class ConektaAPI:\n",
    "    def __init__(self, api_key):\n",
    "        self.api_key = api_key\n",
    "        \n",
    "    def create_order(self, order_data):\n",
    "        headers = {\n",
    "            'Accept': 'application/vnd.conekta-v2.0.0+json',\n",
    "            'Content-type': 'application/json',\n",
    "            'Authorization': f'Basic {self.api_key}:'\n",
    "        }\n",
    "        response = requests.post(\n",
    "            'https://api.conekta.io/orders',\n",
    "            headers=headers,\n",
    "            data=json.dumps(order_data)\n",
    "        )\n",
    "        return response.json()\n",
    "\n",
    "\n",
    "class OXXOPayAPI:\n",
    "    def __init__(self, api_key):\n",
    "        self.api_key = api_key\n",
    "        \n",
    "    def create_payment(self, amount, currency):\n",
    "        # Simplified example, refer to the OXXOPay API documentation\n",
    "        response = requests.post(\n",
    "            'https://api.oxxopay.com/payments',\n",
    "            headers={'Authorization': f'Bearer {self.api_key}'},\n",
    "            json={'amount': amount, 'currency': currency}\n",
    "        )\n",
    "        return response.json()"
   ]
  }
 ],
 "metadata": {
  "language_info": {
   "name": "python"
  },
  "orig_nbformat": 4
 },
 "nbformat": 4,
 "nbformat_minor": 2
}
